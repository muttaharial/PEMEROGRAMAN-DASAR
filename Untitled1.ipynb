{
  "nbformat": 4,
  "nbformat_minor": 0,
  "metadata": {
    "colab": {
      "provenance": [],
      "authorship_tag": "ABX9TyPTWU4FRZ2uq5/3V4YfMBkX",
      "include_colab_link": true
    },
    "kernelspec": {
      "name": "python3",
      "display_name": "Python 3"
    },
    "language_info": {
      "name": "python"
    }
  },
  "cells": [
    {
      "cell_type": "markdown",
      "metadata": {
        "id": "view-in-github",
        "colab_type": "text"
      },
      "source": [
        "<a href=\"https://colab.research.google.com/github/muttaharial/PEMEROGRAMAN-DASAR/blob/main/Untitled1.ipynb\" target=\"_parent\"><img src=\"https://colab.research.google.com/assets/colab-badge.svg\" alt=\"Open In Colab\"/></a>"
      ]
    },
    {
      "cell_type": "code",
      "source": [
        "print(\"=\"*30)\n",
        "print(\"SELAMAT DATANG DI WARUNG ARI\")\n",
        "print(\"=\"*30)\n",
        "print(\"Menu Belanja:\")\n",
        "print(\"1. Oli Mesin         - Rp 45.000\")\n",
        "print(\"2. Shockbreaker      - Rp 150.000\")\n",
        "print(\"3. Busi              - Rp 15.000\")\n",
        "print(\"4. Kampas Rem        - Rp 25.000\")\n",
        "print(\"5. Rantai            - Rp 50.000\")\n",
        "print(\"6. Aki               - Rp 100.000\")\n",
        "print(\"=\"*30)\n",
        "\n",
        "pilihan_str = input(\"Silakan masukkan nomor pilihan Anda (1-6): \")\n",
        "pilihan = int(pilihan_str)\n",
        "nama_pesanan = \"\"\n",
        "harga = 0\n",
        "\n",
        "if pilihan == 1:\n",
        "    nama_pesanan = \"Oli Mesin\"\n",
        "    harga = 45000\n",
        "elif pilihan == 2:\n",
        "    nama_pesanan = \"Shockbreaker\"\n",
        "    harga = 150000\n",
        "elif pilihan == 3:\n",
        "    nama_pesanan = \"Busi\"\n",
        "    harga = 15000\n",
        "elif pilihan == 4:\n",
        "    nama_pesanan = \"Kampas Rem\"\n",
        "    harga = 25000\n",
        "elif pilihan == 5:\n",
        "    nama_pesanan = \"Rantai\"\n",
        "    harga = 50000\n",
        "elif pilihan == 6:\n",
        "    nama_pesanan = \"Aki\"\n",
        "    harga = 100000\n",
        "\n",
        "else:\n",
        "    print(\"Maaf, pilihan menu tidak valid. Silakan jalankan ulang program.\")\n",
        "    exit()\n",
        "\n",
        "print(f\"Anda memesan: {nama_pesanan} dengan harga Rp {harga}\")\n",
        "\n",
        "# Hitung diskon\n",
        "diskon = 0\n",
        "if harga >= 50000:\n",
        "    diskon = 0.7\n",
        "elif harga >= 30000:\n",
        "    diskon = 0.5\n",
        "elif harga >= 20000:\n",
        "    diskon = 0.3\n",
        "else:\n",
        "    diskon = 0\n",
        "\n",
        "potongan = int(harga * diskon)\n",
        "total_bayar = harga - potongan\n",
        "\n",
        "print(\"=\"*30)\n",
        "print(f\"Total Belanja : Rp {harga}\")\n",
        "print(f\"Diskon        : {int(diskon*100)}% (Rp {potongan})\")\n",
        "print(f\"Total Bayar   : Rp {total_bayar}\")\n",
        "print(\"=\"*30)\n",
        "\n",
        "uang_dibayar = int(input(f\"Masukkan jumlah uang Anda: Rp \"))\n",
        "if uang_dibayar >= total_bayar:\n",
        "    kembalian = uang_dibayar - total_bayar\n",
        "    print(\"\\n=== Struk Pembayaran ===\")\n",
        "    print(f\"Pesanan       : {nama_pesanan}\")\n",
        "    print(f\"Total Bayar   : Rp {total_bayar}\")\n",
        "    print(f\"Uang Dibayar  : Rp {uang_dibayar}\")\n",
        "    print(f\"Kembalian     : Rp {kembalian}\")\n",
        "    print(\"Terima kasih telah berbelanja!\")\n",
        "else:\n",
        "    kekurangan = total_bayar - uang_dibayar\n",
        "    print(f\"Maaf, uang Anda kurang sebesar Rp {kekurangan}\")\n"
      ],
      "metadata": {
        "colab": {
          "base_uri": "https://localhost:8080/"
        },
        "id": "9GkWchBCxwqU",
        "outputId": "57ebd973-dcf6-4189-ca00-0225b4c5243f"
      },
      "execution_count": null,
      "outputs": [
        {
          "output_type": "stream",
          "name": "stdout",
          "text": [
            "==============================\n",
            "SELAMAT DATANG DI WARUNG ARI\n",
            "==============================\n",
            "Menu Belanja:\n",
            "1. Oli Mesin         - Rp 45.000\n",
            "2. Shockbreaker      - Rp 150.000\n",
            "3. Busi              - Rp 15.000\n",
            "4. Kampas Rem        - Rp 25.000\n",
            "5. Rantai            - Rp 50.000\n",
            "6. Aki               - Rp 100.000\n",
            "==============================\n",
            "Silakan masukkan nomor pilihan Anda (1-6): 6\n",
            "Anda memesan: Aki dengan harga Rp 100000\n",
            "==============================\n",
            "Total Belanja : Rp 100000\n",
            "Diskon        : 70% (Rp 70000)\n",
            "Total Bayar   : Rp 30000\n",
            "==============================\n",
            "Masukkan jumlah uang Anda: Rp 200000\n",
            "\n",
            "=== Struk Pembayaran ===\n",
            "Pesanan       : Aki\n",
            "Total Bayar   : Rp 30000\n",
            "Uang Dibayar  : Rp 200000\n",
            "Kembalian     : Rp 170000\n",
            "Terima kasih telah berbelanja!\n"
          ]
        }
      ]
    }
  ]
}