{
  "nbformat": 4,
  "nbformat_minor": 0,
  "metadata": {
    "colab": {
      "provenance": [],
      "authorship_tag": "ABX9TyO/gMVf3uZzH19S/zG82PH2",
      "include_colab_link": true
    },
    "kernelspec": {
      "name": "python3",
      "display_name": "Python 3"
    },
    "language_info": {
      "name": "python"
    }
  },
  "cells": [
    {
      "cell_type": "markdown",
      "metadata": {
        "id": "view-in-github",
        "colab_type": "text"
      },
      "source": [
        "<a href=\"https://colab.research.google.com/github/muttaharial/PEMEROGRAMAN-DASAR/blob/main/Untitled1.ipynb\" target=\"_parent\"><img src=\"https://colab.research.google.com/assets/colab-badge.svg\" alt=\"Open In Colab\"/></a>"
      ]
    },
    {
      "cell_type": "code",
      "execution_count": null,
      "metadata": {
        "colab": {
          "base_uri": "https://localhost:8080/"
        },
        "id": "7mfcLh6wS9LB",
        "outputId": "31a942fc-878f-42bb-8e69-f919a05eec11"
      },
      "outputs": [
        {
          "output_type": "stream",
          "name": "stdout",
          "text": [
            "Masukkan tahun: 2004\n",
            "Apakah tahun kabisat?  True\n"
          ]
        }
      ],
      "source": [
        "tahun = int(input(\"Masukkan tahun: \"))\n",
        "\n",
        "# Ekspresi logika langsung\n",
        "kabisat = (tahun % 4 == 0 and tahun % 100 != 0) or (tahun % 400 == 0)\n",
        "\n",
        "print(\"Apakah tahun kabisat? \", kabisat)\n"
      ]
    },
    {
      "cell_type": "code",
      "source": [
        "# Program operasi aritmatika sederhana\n",
        "a = int(input(\"Masukkan angka pertama: \"))\n",
        "b = int(input(\"Masukkan angka kedua: \"))\n",
        "\n",
        "print(\"Hasil Penjumlahan:\", a + b)\n",
        "print(\"Hasil Pengurangan:\", a - b)\n",
        "print(\"Hasil Perkalian:\", a * b)\n",
        "print(\"Hasil Pembagian:\", a / b)\n"
      ],
      "metadata": {
        "colab": {
          "base_uri": "https://localhost:8080/"
        },
        "id": "ESF1-diIUHAL",
        "outputId": "73459739-e3ed-4d28-c581-43ec8d6f6003"
      },
      "execution_count": null,
      "outputs": [
        {
          "output_type": "stream",
          "name": "stdout",
          "text": [
            "Masukkan angka pertama: 10\n",
            "Masukkan angka kedua: 05\n",
            "Hasil Penjumlahan: 15\n",
            "Hasil Pengurangan: 5\n",
            "Hasil Perkalian: 50\n",
            "Hasil Pembagian: 2.0\n"
          ]
        }
      ]
    },
    {
      "cell_type": "code",
      "source": [
        "# Program Kasir Sederhana (tanpa if)\n",
        "\n",
        "# Input subtotal belanja\n",
        "subtotal = float(input(\"Masukkan total belanja (Rp): \"))\n",
        "\n",
        "# Input status member\n",
        "member = input(\"Apakah pelanggan member? (ya/tidak): \").lower() == \"ya\"\n",
        "\n",
        "# Hitung diskon (pakai logika langsung tanpa if)\n",
        "diskon = 0.15 * subtotal * (member and subtotal > 100000)\n",
        "\n",
        "# Harga setelah diskon\n",
        "harga_setelah_diskon = subtotal - diskon\n",
        "\n",
        "# Hitung PPN 11%\n",
        "ppn = 0.11 * harga_setelah_diskon\n",
        "\n",
        "# Total akhir\n",
        "total_akhir = harga_setelah_diskon + ppn\n",
        "\n",
        "# Output\n",
        "print(\"\\n--- Struk Belanja ---\")\n",
        "print(f\"Subtotal             : Rp {subtotal:,.0f}\")\n",
        "print(f\"Diskon               : Rp {diskon:,.0f}\")\n",
        "print(f\"Harga Setelah Diskon : Rp {harga_setelah_diskon:,.0f}\")\n",
        "print(f\"PPN (11%)            : Rp {ppn:,.0f}\")\n",
        "print(f\"Total Akhir          : Rp {total_akhir:,.0f}\")\n"
      ],
      "metadata": {
        "colab": {
          "base_uri": "https://localhost:8080/"
        },
        "id": "YBSTXB47tiyx",
        "outputId": "74832c7c-23e3-4748-aba5-c2b176af96f7"
      },
      "execution_count": null,
      "outputs": [
        {
          "output_type": "stream",
          "name": "stdout",
          "text": [
            "Masukkan total belanja (Rp): 15000000\n",
            "Apakah pelanggan member? (ya/tidak): ya\n",
            "\n",
            "--- Struk Belanja ---\n",
            "Subtotal             : Rp 15,000,000\n",
            "Diskon               : Rp 2,250,000\n",
            "Harga Setelah Diskon : Rp 12,750,000\n",
            "PPN (11%)            : Rp 1,402,500\n",
            "Total Akhir          : Rp 14,152,500\n"
          ]
        }
      ]
    }
  ]
}