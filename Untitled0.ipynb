{
  "nbformat": 4,
  "nbformat_minor": 0,
  "metadata": {
    "colab": {
      "provenance": [],
      "authorship_tag": "ABX9TyO/FRNlwTnEfgbjcLRiJteF",
      "include_colab_link": true
    },
    "kernelspec": {
      "name": "python3",
      "display_name": "Python 3"
    },
    "language_info": {
      "name": "python"
    }
  },
  "cells": [
    {
      "cell_type": "markdown",
      "metadata": {
        "id": "view-in-github",
        "colab_type": "text"
      },
      "source": [
        "<a href=\"https://colab.research.google.com/github/muttaharial/PEMEROGRAMAN-DASAR/blob/main/Untitled0.ipynb\" target=\"_parent\"><img src=\"https://colab.research.google.com/assets/colab-badge.svg\" alt=\"Open In Colab\"/></a>"
      ]
    },
    {
      "cell_type": "code",
      "execution_count": 2,
      "metadata": {
        "id": "EP3XLoArgeVG",
        "colab": {
          "base_uri": "https://localhost:8080/"
        },
        "outputId": "fff5af60-b5ee-4f73-8f7a-46883dcb93bf"
      },
      "outputs": [
        {
          "output_type": "stream",
          "name": "stdout",
          "text": [
            "muttahari\n",
            "21\n",
            "laki - laki\n",
            "islam\n",
            "futsal\n",
            "griya permata batu aji blok.b/37\n",
            "teknik elektro\n",
            "teknologi rekayasa pembangkit energi\n",
            "3\n",
            "Pemerograman Dasar\n",
            "False\n"
          ]
        }
      ],
      "source": [
        "# Biodata Saya\n",
        "\n",
        "nama = \"muttahari\"\n",
        "umur = 21\n",
        "jenis_kelamin = \"laki - laki\"\n",
        "agama = \"islam\"\n",
        "hobi = \"futsal\"\n",
        "alamat = \"griya permata batu aji blok.b/37\"\n",
        "jurusan = \"teknik elektro\"\n",
        "program_studi = \"teknologi rekayasa pembangkit energi\"\n",
        "semester = 3\n",
        "matakuliah = 'Pemerograman Dasar'\n",
        "status_lulus = False\n",
        "\n",
        "\n",
        "print (nama)\n",
        "print (umur)\n",
        "print (jenis_kelamin)\n",
        "print (agama)\n",
        "print (hobi)\n",
        "print (alamat)\n",
        "print (jurusan)\n",
        "print (program_studi)\n",
        "print (semester)\n",
        "print (matakuliah)\n",
        "print (status_lulus)\n",
        "\n"
      ]
    }
  ]
}