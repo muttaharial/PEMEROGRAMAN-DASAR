{
  "nbformat": 4,
  "nbformat_minor": 0,
  "metadata": {
    "colab": {
      "provenance": [],
      "authorship_tag": "ABX9TyPc2Ykx1Q7F3QyTTSjOHtHk",
      "include_colab_link": true
    },
    "kernelspec": {
      "name": "python3",
      "display_name": "Python 3"
    },
    "language_info": {
      "name": "python"
    }
  },
  "cells": [
    {
      "cell_type": "markdown",
      "metadata": {
        "id": "view-in-github",
        "colab_type": "text"
      },
      "source": [
        "<a href=\"https://colab.research.google.com/github/muttaharial/PEMEROGRAMAN-DASAR/blob/main/Untitled0.ipynb\" target=\"_parent\"><img src=\"https://colab.research.google.com/assets/colab-badge.svg\" alt=\"Open In Colab\"/></a>"
      ]
    },
    {
      "cell_type": "code",
      "execution_count": null,
      "metadata": {
        "colab": {
          "base_uri": "https://localhost:8080/"
        },
        "id": "ESPJkMYpX9X6",
        "outputId": "fe838d7d-748d-45d6-8958-5e7060eb7a46"
      },
      "outputs": [
        {
          "output_type": "stream",
          "name": "stdout",
          "text": [
            "=== BIODATA DIRI ===\n",
            "Nama   : Muttahari\n",
            "NIM    : 4232401006\n",
            "Kelas  : RPE 3A PAGI\n",
            "Jurusan: Teknik Elektro\n",
            "Hobi   : futsal\n"
          ]
        }
      ],
      "source": [
        "def biodata():\n",
        "    \"\"\"Menampilkan biodata lengkap.\"\"\"\n",
        "    print(\"=== BIODATA DIRI ===\")\n",
        "    print(\"Nama   : Muttahari\")\n",
        "    print(\"NIM    : 4232401006\")\n",
        "    print(\"Kelas  : RPE 3A PAGI\")\n",
        "    print(\"Jurusan: Teknik Elektro\")\n",
        "    print(\"Hobi   : futsal\")\n",
        "\n",
        "# Pemanggilan:\n",
        "biodata()\n"
      ]
    },
    {
      "cell_type": "code",
      "source": [
        "def hitung_volume_balok(panjang, lebar, tinggi):\n",
        "    \"\"\"Menghitung volume balok.\"\"\"\n",
        "    return panjang * lebar * tinggi\n",
        "\n",
        "# Pemanggilan:\n",
        "print(f\"Volume balok: {hitung_volume_balok(4, 3, 2)}\")\n"
      ],
      "metadata": {
        "colab": {
          "base_uri": "https://localhost:8080/"
        },
        "id": "s41Z4xy7ZMJD",
        "outputId": "fbdec00f-8ddf-42cc-e01f-11768bfb32d2"
      },
      "execution_count": null,
      "outputs": [
        {
          "output_type": "stream",
          "name": "stdout",
          "text": [
            "Volume balok: 24\n"
          ]
        }
      ]
    },
    {
      "cell_type": "code",
      "source": [
        "def hitung_rata_rata(data_nilai):\n",
        "    \"\"\"Menghitung rata-rata, mengabaikan nilai tidak valid.\"\"\"\n",
        "    total = 0\n",
        "    hitung = 0\n",
        "\n",
        "    for nilai in data_nilai:\n",
        "        if 0 <= nilai <= 100:\n",
        "            total += nilai\n",
        "            hitung += 1\n",
        "        else:\n",
        "            print(f\"Nilai {nilai} diabaikan (tidak valid).\")\n",
        "\n",
        "    if hitung > 0:\n",
        "        return total / hitung\n",
        "    return 0\n",
        "\n",
        "# Pemanggilan:\n",
        "print(hitung_rata_rata([90, 105, -5, 80, 70]))\n"
      ],
      "metadata": {
        "colab": {
          "base_uri": "https://localhost:8080/"
        },
        "id": "LKafU9wnZbkD",
        "outputId": "10abd947-5a85-4f9b-bfec-067b28731e5f"
      },
      "execution_count": null,
      "outputs": [
        {
          "output_type": "stream",
          "name": "stdout",
          "text": [
            "Nilai 105 diabaikan (tidak valid).\n",
            "Nilai -5 diabaikan (tidak valid).\n",
            "80.0\n"
          ]
        }
      ]
    },
    {
      "cell_type": "code",
      "source": [
        "def tentukan_predikat(skor):\n",
        "    \"\"\"Menentukan predikat nilai dengan validasi tipe data.\"\"\"\n",
        "    if not isinstance(skor, (int, float)):\n",
        "        return \"Input harus berupa angka.\"\n",
        "\n",
        "    if skor >= 85:\n",
        "        return \"A\"\n",
        "    elif skor >= 70:\n",
        "        return \"B\"\n",
        "    elif skor >= 60:\n",
        "        return \"C\"\n",
        "    elif skor >= 50:\n",
        "        return \"D\"\n",
        "    else:\n",
        "        return \"E\"\n",
        "\n",
        "# Pemanggilan:\n",
        "print(tentukan_predikat(\"90\"))  # Salah tipe\n",
        "print(tentukan_predikat(88))    # A\n"
      ],
      "metadata": {
        "colab": {
          "base_uri": "https://localhost:8080/"
        },
        "id": "jM9XHIHZZvdn",
        "outputId": "36ac3898-32ac-4960-a6ce-60f98326f98b"
      },
      "execution_count": null,
      "outputs": [
        {
          "output_type": "stream",
          "name": "stdout",
          "text": [
            "Input harus berupa angka.\n",
            "A\n"
          ]
        }
      ]
    },
    {
      "cell_type": "code",
      "source": [
        "def hitung_faktorial(n):\n",
        "    \"\"\"Menghitung faktorial dengan validasi n.\"\"\"\n",
        "    if n < 0:\n",
        "        return \"Faktorial tidak didefinisikan untuk bilangan negatif.\"\n",
        "    elif n == 0:\n",
        "        return 1\n",
        "\n",
        "    hasil = 1\n",
        "    while n > 1:\n",
        "        hasil *= n\n",
        "        n -= 1\n",
        "    return hasil\n",
        "\n",
        "# Pemanggilan:\n",
        "print(hitung_faktorial(-3))\n",
        "print(hitung_faktorial(0))\n",
        "print(hitung_faktorial(5))\n"
      ],
      "metadata": {
        "colab": {
          "base_uri": "https://localhost:8080/"
        },
        "id": "GgPgoeA2aEcx",
        "outputId": "1115fcf4-4397-430f-9e04-2cde40ac032d"
      },
      "execution_count": null,
      "outputs": [
        {
          "output_type": "stream",
          "name": "stdout",
          "text": [
            "Faktorial tidak didefinisikan untuk bilangan negatif.\n",
            "1\n",
            "120\n"
          ]
        }
      ]
    },
    {
      "cell_type": "code",
      "source": [
        "def analisis_suhu(data_suhu, batas_panas=35, batas_dingin=15):\n",
        "    \"\"\"Menghitung jumlah hari panas dan dingin dengan batas suhu opsional.\"\"\"\n",
        "    panas_count = 0\n",
        "    dingin_count = 0\n",
        "\n",
        "    for suhu in data_suhu:\n",
        "        if suhu >= batas_panas:\n",
        "            panas_count += 1\n",
        "        elif suhu <= batas_dingin:\n",
        "            dingin_count += 1\n",
        "\n",
        "    return panas_count, dingin_count\n",
        "\n",
        "# Pemanggilan:\n",
        "data = [36, 30, 14, 25, 38, 16, 28]\n",
        "p, d = analisis_suhu(data, batas_panas=34, batas_dingin=17)\n",
        "print(f\"Panas: {p}, Dingin: {d}\")\n"
      ],
      "metadata": {
        "id": "Vh7Z1vLzaL-K",
        "outputId": "22653230-a949-4bf7-b78a-0aa54eba7352",
        "colab": {
          "base_uri": "https://localhost:8080/"
        }
      },
      "execution_count": null,
      "outputs": [
        {
          "output_type": "stream",
          "name": "stdout",
          "text": [
            "Panas: 2, Dingin: 2\n"
          ]
        }
      ]
    }
  ]
}