{
  "nbformat": 4,
  "nbformat_minor": 0,
  "metadata": {
    "colab": {
      "provenance": [],
      "authorship_tag": "ABX9TyOYSpeCHeSEbSX/OHXnGeRL",
      "include_colab_link": true
    },
    "kernelspec": {
      "name": "python3",
      "display_name": "Python 3"
    },
    "language_info": {
      "name": "python"
    }
  },
  "cells": [
    {
      "cell_type": "markdown",
      "metadata": {
        "id": "view-in-github",
        "colab_type": "text"
      },
      "source": [
        "<a href=\"https://colab.research.google.com/github/muttaharial/PEMEROGRAMAN-DASAR/blob/main/Untitled0.ipynb\" target=\"_parent\"><img src=\"https://colab.research.google.com/assets/colab-badge.svg\" alt=\"Open In Colab\"/></a>"
      ]
    },
    {
      "cell_type": "code",
      "execution_count": null,
      "metadata": {
        "colab": {
          "base_uri": "https://localhost:8080/"
        },
        "id": "vJecauJih7ZR",
        "outputId": "fc767651-97e5-40af-8923-66f7f59bfab2"
      },
      "outputs": [
        {
          "name": "stdout",
          "output_type": "stream",
          "text": [
            "Berapa porsi makan yang anda beli? : 10\n",
            "Siapa Nama Pelanggan ? : muttahari\n"
          ]
        }
      ],
      "source": [
        "total = float(input(\"Berapa porsi makan yang anda beli? : \"))\n",
        "nama = str(input(\"Siapa Nama Pelanggan ? : \"))\n"
      ]
    },
    {
      "cell_type": "code",
      "source": [
        "food = \"nasi rebus\"\n",
        "porsi = 2\n",
        "harga = 15.5\n",
        "angka = 200\n",
        "\n",
        "# contoh bawaan soal\n",
        "print(\"ucup sedang memesan\", food)\n",
        "print(\"ucup sedang memesan \" + food)\n",
        "print(\"ucup sedang memesan %s\" % (food))\n",
        "\n",
        "# tambahan sesuai permintaan soal\n",
        "print(\"Jumlah porsi = %d\" % (porsi))\n",
        "print(\"Harga per porsi = %f\" % (harga))\n",
        "print(\"Harga per porsi = %.2f\" % (harga))\n",
        "print(\"Angka %d dalam hex = %x\" % (angka, angka))\n",
        "print(\"Angka %d dalam octal = %o\" % (angka, angka))"
      ],
      "metadata": {
        "colab": {
          "base_uri": "https://localhost:8080/"
        },
        "id": "Y3oDfg7Ap698",
        "outputId": "d7e4630e-6971-4c5f-839c-1d8fc4de22ed"
      },
      "execution_count": null,
      "outputs": [
        {
          "output_type": "stream",
          "name": "stdout",
          "text": [
            "ucup sedang memesan nasi rebus\n",
            "ucup sedang memesan nasi rebus\n",
            "ucup sedang memesan nasi rebus\n",
            "Jumlah porsi = 2\n",
            "Harga per porsi = 15.500000\n",
            "Harga per porsi = 15.50\n",
            "Angka 200 dalam hex = c8\n",
            "Angka 200 dalam octal = 310\n"
          ]
        }
      ]
    },
    {
      "cell_type": "code",
      "source": [
        "a = 50\n",
        "b = 5\n",
        "\n",
        "print(\"Penjumlahan:\", a + b)\n",
        "print(\"Pengurangan:\", a - b)\n",
        "print(\"Perkalian:\", a * b)\n",
        "print(\"Pembagian:\", a / b)"
      ],
      "metadata": {
        "colab": {
          "base_uri": "https://localhost:8080/"
        },
        "id": "WKMoFrRdxiJw",
        "outputId": "e7d10ddc-607f-4764-bbe3-a7df235d0d8a"
      },
      "execution_count": null,
      "outputs": [
        {
          "output_type": "stream",
          "name": "stdout",
          "text": [
            "Penjumlahan: 55\n",
            "Pengurangan: 45\n",
            "Perkalian: 250\n",
            "Pembagian: 10.0\n"
          ]
        }
      ]
    },
    {
      "cell_type": "code",
      "source": [
        "harga_makan = int(input(\"Berapa harga nasi rebus per porsi? \"))\n",
        "harga_minuman = int(input(\"Berapa harga oli per liter? \"))\n",
        "jumlah_makan = int(input(\"Berapa porsi yang Anda beli? \"))\n",
        "jumlah_minuman = int(input(\"Berapa liter yang Anda beli? \"))\n",
        "\n",
        "total_makan = harga_makan * jumlah_makan\n",
        "total_minuman = harga_minuman * jumlah_minuman\n",
        "\n",
        "print(\"Harga makan per porsi = %d, jumlah = %d, totalnya adalah %d\"\n",
        "      % (harga_makan, jumlah_makan, total_makan))\n",
        "print(\"Harga minuman per liter = %d, jumlah = %d, totalnya adalah %d\"\n",
        "      % (harga_minuman, jumlah_minuman, total_minuman))"
      ],
      "metadata": {
        "colab": {
          "base_uri": "https://localhost:8080/"
        },
        "id": "SIcwnW69zRW_",
        "outputId": "a7e2dcc5-8a44-4401-f611-3e0252046c9a"
      },
      "execution_count": null,
      "outputs": [
        {
          "output_type": "stream",
          "name": "stdout",
          "text": [
            "Berapa harga nasi rebus per porsi? 50000\n",
            "Berapa harga oli per liter? 25000\n",
            "Berapa porsi yang Anda beli? 2\n",
            "Berapa liter yang Anda beli? 5\n",
            "Harga makan per porsi = 50000, jumlah = 2, totalnya adalah 100000\n",
            "Harga minuman per liter = 25000, jumlah = 5, totalnya adalah 125000\n"
          ]
        }
      ]
    },
    {
      "cell_type": "code",
      "source": [
        "bilangan = 6\n",
        "hasil = (bilangan > 0) and (bilangan % 2 == 0)\n",
        "print(\"Genap dan positif:\", hasil)"
      ],
      "metadata": {
        "colab": {
          "base_uri": "https://localhost:8080/"
        },
        "id": "qvk-Bzlw2Ul0",
        "outputId": "18de4d83-42ac-4496-aa68-9f34a1ac5256"
      },
      "execution_count": null,
      "outputs": [
        {
          "output_type": "stream",
          "name": "stdout",
          "text": [
            "Genap dan positif: True\n"
          ]
        }
      ]
    },
    {
      "cell_type": "code",
      "source": [
        "# konversi waktu\n",
        "total_detik = int(input(\"Masukkan total detik: \"))\n",
        "\n",
        "jam = total_detik // 3600\n",
        "sisa_detik = total_detik % 3600\n",
        "menit = sisa_detik // 60\n",
        "detik = sisa_detik % 60\n",
        "\n",
        "print(f\"Hasil Konversi: {jam} Jam, {menit} Menit, {detik} Detik\")"
      ],
      "metadata": {
        "colab": {
          "base_uri": "https://localhost:8080/"
        },
        "id": "z6VjZIlm28xJ",
        "outputId": "68f461c3-0c5e-4e5d-b00b-1c9484b7dec1"
      },
      "execution_count": null,
      "outputs": [
        {
          "output_type": "stream",
          "name": "stdout",
          "text": [
            "Masukkan total detik: 358200\n",
            "Hasil Konversi: 99 Jam, 30 Menit, 0 Detik\n"
          ]
        }
      ]
    },
    {
      "cell_type": "code",
      "source": [
        "# Input nilai mahasiswa\n",
        "tugas = float(input(\"Masukkan nilai Tugas: \"))\n",
        "kuis = float(input(\"Masukkan nilai Kuis: \"))\n",
        "uts = float(input(\"Masukkan nilai UTS: \"))\n",
        "uas = float(input(\"Masukkan nilai UAS: \"))\n",
        "projek = float(input(\"Masukkan nilai Proyek: \"))\n",
        "\n",
        "# Hitung nilai akhir (bobot bisa disesuaikan, contoh: Tugas 20%, Kuis 10%, UTS 20%, UAS 30%, Proyek 20%)\n",
        "nilai_mahasiswa = (0.2 * tugas) + (0.1 * kuis) + (0.2 * uts) + (0.3 * uas) + (0.2 * projek)\n",
        "\n",
        "# Input standar kelulusan\n",
        "standar_kelulusan = float(input(\"Masukkan standar kelulusan: \"))\n",
        "\n",
        "# Cek lulus atau tidak\n",
        "apakah_lulus = nilai_mahasiswa >= standar_kelulusan\n",
        "perlu_remedial = nilai_mahasiswa < standar_kelulusan\n",
        "\n",
        "# Output hasil\n",
        "print(f\"\\nNilai Mahasiswa: {nilai_mahasiswa:.2f}\")\n",
        "print(f\"Standar Kelulusan: {standar_kelulusan}\")\n",
        "print(f\"Apakah Mahasiswa Lulus? {apakah_lulus}\")\n",
        "print(f\"Perlu Remedial? {perlu_remedial}\")"
      ],
      "metadata": {
        "colab": {
          "base_uri": "https://localhost:8080/"
        },
        "id": "AzYaA_AE7CEi",
        "outputId": "cd7466d1-10a4-4359-e25a-4e68a2599294"
      },
      "execution_count": null,
      "outputs": [
        {
          "output_type": "stream",
          "name": "stdout",
          "text": [
            "Masukkan nilai Tugas: 90\n",
            "Masukkan nilai Kuis: 85\n",
            "Masukkan nilai UTS: 90\n",
            "Masukkan nilai UAS: 85\n",
            "Masukkan nilai Proyek: 95\n",
            "Masukkan standar kelulusan: 80\n",
            "\n",
            "Nilai Mahasiswa: 89.00\n",
            "Standar Kelulusan: 80.0\n",
            "Apakah Mahasiswa Lulus? True\n",
            "Perlu Remedial? False\n"
          ]
        }
      ]
    },
    {
      "cell_type": "code",
      "source": [
        "pemerograman = int(input(\"nilai pemerograman: \"))\n",
        "\n",
        "inggris = int(input(\"nilai inggris: \"))\n",
        "\n",
        "fisika = int(input( \"nilai fisika: \"))\n",
        "\n",
        "indonesia = int(input(\"nilai indonesia: \"))\n",
        "\n",
        "matematika = int(input(\"nilai matematika: \"))\n",
        "\n",
        "standar_kelulusan = int(input (\"nilai standar kelulusan: \"))\n",
        "\n",
        "nilai_mahasiswa = (pemerograman + inggris + fisika + indonesia + matematika) / 5\n",
        "\n",
        "apakah_lulus = nilai_mahasiswa >= standar_kelulusan\n",
        "\n",
        "perlu_remedial = nilai_mahasiswa < standar_kelulusan\n",
        "\n",
        "print(f\"nilai_mahasiswa: {nilai_mahasiswa}\")\n",
        "\n",
        "print(f\"Apakah mahasiswa lulus? {apakah_lulus}\")\n",
        "\n",
        "print(f\"Apakah mahasiswa perlu remedial? {perlu_remedial}\")"
      ],
      "metadata": {
        "colab": {
          "base_uri": "https://localhost:8080/"
        },
        "id": "K8zn8k49WnTW",
        "outputId": "d7a245fa-5772-428d-d4d9-8ef025c221d9"
      },
      "execution_count": 1,
      "outputs": [
        {
          "output_type": "stream",
          "name": "stdout",
          "text": [
            "nilai pemerograman: 85\n",
            "nilai inggris: 90\n",
            "nilai fisika: 85\n",
            "nilai indonesia: 90\n",
            "nilai matematika: 95\n",
            "nilai standar kelulusan: 80\n",
            "nilai_mahasiswa: 89.0\n",
            "Apakah mahasiswa lulus? True\n",
            "Apakah mahasiswa perlu remedial? False\n"
          ]
        }
      ]
    },
    {
      "cell_type": "code",
      "source": [
        "belanja = int(input(\"total belanja:\") )\n",
        "diskon = (0, 0.35 * belanja) [belanja > 1000000]\n",
        "total_harga = belanja - diskon\n",
        "print(f\"total belanja: {belanja}\")\n",
        "print(f\"diskon: {diskon}\")\n",
        "print(f\"total harga: {total_harga}\")"
      ],
      "metadata": {
        "colab": {
          "base_uri": "https://localhost:8080/"
        },
        "id": "_2If3J1EZFLZ",
        "outputId": "912b7693-7a1d-4d50-c59e-50e091aeaef5"
      },
      "execution_count": 2,
      "outputs": [
        {
          "output_type": "stream",
          "name": "stdout",
          "text": [
            "total belanja:15000000\n",
            "total belanja: 15000000\n",
            "diskon: 5250000.0\n",
            "total harga: 9750000.0\n"
          ]
        }
      ]
    }
  ]
}