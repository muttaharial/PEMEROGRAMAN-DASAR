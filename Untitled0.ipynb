{
  "nbformat": 4,
  "nbformat_minor": 0,
  "metadata": {
    "colab": {
      "provenance": [],
      "authorship_tag": "ABX9TyMb8qyRnOf/DM5XRIF4QJsj",
      "include_colab_link": true
    },
    "kernelspec": {
      "name": "python3",
      "display_name": "Python 3"
    },
    "language_info": {
      "name": "python"
    }
  },
  "cells": [
    {
      "cell_type": "markdown",
      "metadata": {
        "id": "view-in-github",
        "colab_type": "text"
      },
      "source": [
        "<a href=\"https://colab.research.google.com/github/muttaharial/PEMEROGRAMAN-DASAR/blob/main/Untitled0.ipynb\" target=\"_parent\"><img src=\"https://colab.research.google.com/assets/colab-badge.svg\" alt=\"Open In Colab\"/></a>"
      ]
    },
    {
      "cell_type": "code",
      "source": [
        "def data_mahasiswa(nama, umur, aktif, nilai):\n",
        "    # tipe data primitif: string, int, bool\n",
        "    # tipe data non primitif: list, tuple, dictionary, set\n",
        "\n",
        "    if not aktif:\n",
        "        return f\"{nama} belum aktif kuliah.\"\n",
        "\n",
        "    # hitung rata-rata nilai dengan perulangan for\n",
        "    total = 0\n",
        "    for n in nilai:\n",
        "        total += n\n",
        "    rata = total / len(nilai)\n",
        "\n",
        "    # percabangan if, elif, else\n",
        "    if rata >= 85:\n",
        "        kategori = \"Sangat Baik\"\n",
        "    elif rata >= 70:\n",
        "        kategori = \"Cukup\"\n",
        "    else:\n",
        "        kategori = \"Kurang\"\n",
        "\n",
        "    # simpan data ke dictionary\n",
        "    data = {\n",
        "        \"Nama\": nama,\n",
        "        \"Umur\": umur,\n",
        "        \"Aktif\": aktif,\n",
        "        \"Nilai\": tuple(nilai),      # ubah list jadi tuple\n",
        "        \"Rata-rata\": rata,\n",
        "        \"Kategori\": kategori,\n",
        "        \"Hobi\": {\"membaca\", \"ngoding\"}  # tipe set\n",
        "    }\n",
        "\n",
        "    # tampilkan data dengan perulangan while\n",
        "    print(\"\\nData Mahasiswa:\")\n",
        "    i = 0\n",
        "    keys = list(data.keys())\n",
        "    while i < len(keys):\n",
        "        print(f\"- {keys[i]} : {data[keys[i]]}\")\n",
        "        i += 1\n",
        "\n",
        "    return f\"\\nKesimpulan: {nama} termasuk kategori {kategori}\"\n",
        "\n",
        "\n",
        "# Pemanggilan fungsi\n",
        "print(data_mahasiswa(\"Muttahari\", 20, True, [80, 90, 75, 85]))\n"
      ],
      "metadata": {
        "colab": {
          "base_uri": "https://localhost:8080/"
        },
        "id": "4E4n6TWWuAno",
        "outputId": "45c3dcbc-6eaf-431a-ff5a-9e53325cab00"
      },
      "execution_count": 5,
      "outputs": [
        {
          "output_type": "stream",
          "name": "stdout",
          "text": [
            "\n",
            "Data Mahasiswa:\n",
            "- Nama : Muttahari\n",
            "- Umur : 20\n",
            "- Aktif : True\n",
            "- Nilai : (80, 90, 75, 85)\n",
            "- Rata-rata : 82.5\n",
            "- Kategori : Cukup\n",
            "- Hobi : {'membaca', 'ngoding'}\n",
            "\n",
            "Kesimpulan: Muttahari termasuk kategori Cukup\n"
          ]
        }
      ]
    }
  ]
}