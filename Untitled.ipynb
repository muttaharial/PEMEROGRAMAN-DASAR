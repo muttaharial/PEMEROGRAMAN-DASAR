{
  "nbformat": 4,
  "nbformat_minor": 0,
  "metadata": {
    "colab": {
      "provenance": [],
      "authorship_tag": "ABX9TyO9W/JwO8w6jvxTKhKsX6ke",
      "include_colab_link": true
    },
    "kernelspec": {
      "name": "python3",
      "display_name": "Python 3"
    },
    "language_info": {
      "name": "python"
    }
  },
  "cells": [
    {
      "cell_type": "markdown",
      "metadata": {
        "id": "view-in-github",
        "colab_type": "text"
      },
      "source": [
        "<a href=\"https://colab.research.google.com/github/muttaharial/PEMEROGRAMAN-DASAR/blob/main/Untitled.ipynb\" target=\"_parent\"><img src=\"https://colab.research.google.com/assets/colab-badge.svg\" alt=\"Open In Colab\"/></a>"
      ]
    },
    {
      "cell_type": "code",
      "execution_count": 1,
      "metadata": {
        "colab": {
          "base_uri": "https://localhost:8080/"
        },
        "id": "tXKhOftV3J5o",
        "outputId": "dca55833-a2a5-43c4-e863-76f2ea780e9e"
      },
      "outputs": [
        {
          "output_type": "stream",
          "name": "stdout",
          "text": [
            "M. Murtadho\n",
            "Al Muttahari\n",
            "21\n",
            "False\n"
          ]
        }
      ],
      "source": [
        "firstName = \"M. Murtadho\"\n",
        "lastName = \"Al Muttahari\"\n",
        "age = 21\n",
        "isMarried = False\n",
        "\n",
        "print(firstName)\n",
        "print(lastName)\n",
        "print(age)\n",
        "print(isMarried)"
      ]
    },
    {
      "cell_type": "code",
      "source": [
        "data_diri = {'firstName' : 'M. Murtadho', 'lastName' : 'Al Muttahari', 'age' : 21, 'isMarried' : False}\n",
        "\n",
        "print(data_diri)"
      ],
      "metadata": {
        "colab": {
          "base_uri": "https://localhost:8080/"
        },
        "id": "sJoKwijP33bw",
        "outputId": "708bd8a7-9bfc-4e85-9857-0e5257c1c747"
      },
      "execution_count": 4,
      "outputs": [
        {
          "output_type": "stream",
          "name": "stdout",
          "text": [
            "{'firstName': 'M. Murtadho', 'lastName': 'Al Muttahari', 'age': 21, 'isMarried': False}\n"
          ]
        }
      ]
    },
    {
      "cell_type": "code",
      "source": [
        "inspeksi = [\n",
        "    \"pemahaman terhadap rencana dan desain\",\n",
        "    \"ketersedian bahan dan peralatan\",\n",
        "    \"pengawasan pekerjaan\",\n",
        "    \"kualitas kontruksi\",\n",
        "    \"keselamatan kerja\",\n",
        "    \"koordinasi dengan pemilik proyek\"\n",
        "]\n",
        "\n",
        "print(inspeksi)"
      ],
      "metadata": {
        "colab": {
          "base_uri": "https://localhost:8080/"
        },
        "id": "s18QauIf5z1m",
        "outputId": "a454e53f-1b18-4f26-b8ad-0e446841cd94"
      },
      "execution_count": 14,
      "outputs": [
        {
          "output_type": "stream",
          "name": "stdout",
          "text": [
            "['pemahaman terhadap rencana dan desain', 'ketersedian bahan dan peralatan', 'pengawasan pekerjaan', 'kualitas kontruksi', 'keselamatan kerja', 'koordinasi dengan pemilik proyek']\n"
          ]
        }
      ]
    },
    {
      "cell_type": "code",
      "source": [
        "startTime = {\n",
        "    \"HH\": 9,\n",
        "    \"mm\" : 23,\n",
        "    \"ss\" : 57\n",
        "}\n",
        "endTime = {\n",
        "    \"HH\": 15,\n",
        "    \"mm\": 25,\n",
        "    \"ss\" : 43\n",
        "}\n",
        "\n",
        "print (startTime)\n",
        "print(endTime)"
      ],
      "metadata": {
        "colab": {
          "base_uri": "https://localhost:8080/"
        },
        "id": "pM9ovcVL5_Cc",
        "outputId": "5f043e5d-6768-479d-d599-8ed0b520bf6f"
      },
      "execution_count": 15,
      "outputs": [
        {
          "output_type": "stream",
          "name": "stdout",
          "text": [
            "{'HH': 9, 'mm': 23, 'ss': 57}\n",
            "{'HH': 15, 'mm': 25, 'ss': 43}\n"
          ]
        }
      ]
    },
    {
      "cell_type": "code",
      "source": [
        "katalog_musim_panas = {\"Novel Fiksi\", \"Buku Anak\", \"Majalah\", \"Buku Cerita Pendek\"}\n",
        "katalog_musim_gugur = {\"Buku Resep\", \"Novel Fiksi\", \"Buku Sejarah\", \"Buku Anak\"}\n",
        "\n",
        "# Gabungkan kedua katalog untuk mendapatkan semua produk\n",
        "semua_produk = katalog_musim_panas.union(katalog_musim_gugur)\n",
        "\n",
        "# Daftar buku yang paling laris (bestseller)\n",
        "buku_bestseller = {\"Novel Fiksi\", \"Buku Sejarah\", \"Buku Cerita Pendek\", \"Biografi\"}\n",
        "\n",
        "# Cari irisan dari 'semua_produk' dan 'buku_bestseller'\n",
        "buku_bestseller_dijual = semua_produk.intersection(buku_bestseller)\n",
        "\n",
        "print(\"Semua Produk di Toko:\", semua_produk)\n",
        "print(\"Buku Bestseller yang Dijual:\", buku_bestseller_dijual)"
      ],
      "metadata": {
        "colab": {
          "base_uri": "https://localhost:8080/"
        },
        "id": "XTE5BJXd6GnR",
        "outputId": "1080893f-2cd9-4e71-d0e3-0eac27fbd51e"
      },
      "execution_count": 16,
      "outputs": [
        {
          "output_type": "stream",
          "name": "stdout",
          "text": [
            "Semua Produk di Toko: {'Buku Anak', 'Buku Resep', 'Buku Cerita Pendek', 'Novel Fiksi', 'Majalah', 'Buku Sejarah'}\n",
            "Buku Bestseller yang Dijual: {'Novel Fiksi', 'Buku Cerita Pendek', 'Buku Sejarah'}\n"
          ]
        }
      ]
    }
  ]
}