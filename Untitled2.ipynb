{
  "nbformat": 4,
  "nbformat_minor": 0,
  "metadata": {
    "colab": {
      "provenance": [],
      "authorship_tag": "ABX9TyOVdpP4F/hXGh6OpNI559GN",
      "include_colab_link": true
    },
    "kernelspec": {
      "name": "python3",
      "display_name": "Python 3"
    },
    "language_info": {
      "name": "python"
    }
  },
  "cells": [
    {
      "cell_type": "markdown",
      "metadata": {
        "id": "view-in-github",
        "colab_type": "text"
      },
      "source": [
        "<a href=\"https://colab.research.google.com/github/muttaharial/PEMEROGRAMAN-DASAR/blob/main/Untitled2.ipynb\" target=\"_parent\"><img src=\"https://colab.research.google.com/assets/colab-badge.svg\" alt=\"Open In Colab\"/></a>"
      ]
    },
    {
      "cell_type": "code",
      "execution_count": null,
      "metadata": {
        "colab": {
          "base_uri": "https://localhost:8080/"
        },
        "id": "PNIXMCSfC0EM",
        "outputId": "dcacf6c8-88a2-4817-fff0-be81daf18329"
      },
      "outputs": [
        {
          "output_type": "stream",
          "name": "stdout",
          "text": [
            "Pengunjung adalah orang dewasa.\n"
          ]
        }
      ],
      "source": [
        "# variable untuk menyimpan umur pengunjung\n",
        "umur : int = 20\n",
        "\n",
        "#programm hanya mencetak pesan jika umur di atas 17\n",
        "if umur > 17 :\n",
        "    print(\"Pengunjung adalah orang dewasa.\")"
      ]
    },
    {
      "cell_type": "code",
      "source": [
        "username = input(\"Masukkan username: \")\n",
        "password = input(\"Masukkan password: \")\n",
        "\n",
        "if username == \"muttahari\" and password == \"088008\":\n",
        "    print(\"Login berhasil\")\n",
        "else:\n",
        "    print(\"Login gagal\")"
      ],
      "metadata": {
        "colab": {
          "base_uri": "https://localhost:8080/"
        },
        "id": "GXzirfFBG8ge",
        "outputId": "fbddb847-1393-4982-a5c7-d1310e494ab1"
      },
      "execution_count": null,
      "outputs": [
        {
          "output_type": "stream",
          "name": "stdout",
          "text": [
            "Masukkan username: muttahari\n",
            "Masukkan password: 088008\n",
            "Login berhasil\n"
          ]
        }
      ]
    },
    {
      "cell_type": "code",
      "source": [
        "# program untuk mengecek bonus dan diskon\n",
        "total_belanja = input(\"Total belanja: Rp\")\n",
        "# jumlah yang harus dibayar adalah berapa total belanjanya\n",
        "# tapi kalau dapat diskon akan berkurang\n",
        "if int(total_belanja) > 100000:\n",
        "    print(\"Selamat karena Belanja > Rp. 100.000 anda mendapat voucher Makan\")\n",
        "    print(\"dan diskon 5%\")\n",
        "    # hitung diskonnnya\n",
        "    diskon = int(total_belanja) * 5/100 #5%\n",
        "    bayar = int(total_belanja) - diskon\n",
        "    # cek struk\n",
        "    print(\"Total yang harus di bayar : Rp %s\" % bayar)\n",
        "    print(\"Terima kasih sudah berbelanja di Toko kami\")\n",
        "    print(\"Kami Tunggu kunjungan anda selanjutnya\")"
      ],
      "metadata": {
        "colab": {
          "base_uri": "https://localhost:8080/"
        },
        "id": "UyfLD6hiHOmx",
        "outputId": "a57af66e-a1d4-4ca3-e439-40a78751ce2d"
      },
      "execution_count": 3,
      "outputs": [
        {
          "name": "stdout",
          "output_type": "stream",
          "text": [
            "Total belanja: Rp20000\n"
          ]
        }
      ]
    },
    {
      "cell_type": "code",
      "source": [
        "#variabel untuk memeriksa apakah ada notifikasi baru\n",
        "ada_notifikasi_baru: bool = True\n",
        "if ada_notifikasi_baru:\n",
        "    print(\"Ada notifikasi baru.\")"
      ],
      "metadata": {
        "colab": {
          "base_uri": "https://localhost:8080/"
        },
        "id": "dIUAAZSNHZHk",
        "outputId": "85184d9f-7f9f-45a1-8f89-bb6f5280ab6b"
      },
      "execution_count": null,
      "outputs": [
        {
          "output_type": "stream",
          "name": "stdout",
          "text": [
            "Ada notifikasi baru.\n"
          ]
        }
      ]
    },
    {
      "cell_type": "code",
      "source": [
        "umur = input (\"Berapa umur kamu: \")\n",
        "if int(umur) >= 18:\n",
        "  print(\"Kamu boleh membuat kartu SIM\")\n",
        "else:\n",
        "  print(\"Kamu belum boleh membuat kartu SIM\")"
      ],
      "metadata": {
        "colab": {
          "base_uri": "https://localhost:8080/"
        },
        "id": "zg85H36_HdiM",
        "outputId": "0552a406-9ae4-4bb0-e2da-3b5424c78824"
      },
      "execution_count": null,
      "outputs": [
        {
          "output_type": "stream",
          "name": "stdout",
          "text": [
            "Berapa umur kamu: 21\n",
            "Kamu boleh membuat kartu SIM\n"
          ]
        }
      ]
    },
    {
      "cell_type": "code",
      "source": [
        "total_belanja = 300000\n",
        "if total_belanja > 200000:\n",
        "   diskon = total_belanja * 0.10\n",
        "   total_bayar = total_belanja - diskon\n",
        "   print(f\"Anda mendapat diskon! Total bayar: Rp {total_bayar}\")"
      ],
      "metadata": {
        "colab": {
          "base_uri": "https://localhost:8080/"
        },
        "id": "wJl64XUqHiJR",
        "outputId": "8d3757e6-e59f-4daf-dc46-7d572fb8a927"
      },
      "execution_count": null,
      "outputs": [
        {
          "output_type": "stream",
          "name": "stdout",
          "text": [
            "Anda mendapat diskon! Total bayar: Rp 270000.0\n"
          ]
        }
      ]
    },
    {
      "cell_type": "code",
      "source": [
        "angka = int(input(\"Masukkan angka: \"))\n",
        "\n",
        "if angka % 2 ==0:\n",
        "  print(\"Bilangan genap\")\n",
        "else:\n",
        "  print(\"Bilangan ganjil\")"
      ],
      "metadata": {
        "colab": {
          "base_uri": "https://localhost:8080/"
        },
        "id": "TZi3geRVHnfy",
        "outputId": "21c48cbd-b73f-473e-b55f-5136948fe806"
      },
      "execution_count": null,
      "outputs": [
        {
          "output_type": "stream",
          "name": "stdout",
          "text": [
            "Masukkan angka: 31\n",
            "Bilangan ganjil\n"
          ]
        }
      ]
    },
    {
      "cell_type": "code",
      "source": [
        "nilai = 80\n",
        "if nilai >= 80:\n",
        "  print(\"Luar biasa! Nilai A\")\n",
        "elif nilai >= 70:\n",
        "  print(\"Bagus! Nilai B\")\n",
        "elif nilai >= 60:\n",
        "  print(\"Cukup. Nilai C\")\n",
        "else:\n",
        "  print(\"Nilai kurang, perlu belajar lebih giat.\")"
      ],
      "metadata": {
        "colab": {
          "base_uri": "https://localhost:8080/"
        },
        "id": "oDVbdN7oHs9J",
        "outputId": "417db30c-9719-47e6-8e38-231061c24fa7"
      },
      "execution_count": null,
      "outputs": [
        {
          "output_type": "stream",
          "name": "stdout",
          "text": [
            "Luar biasa! Nilai A\n"
          ]
        }
      ]
    },
    {
      "cell_type": "code",
      "source": [
        "# Menentukan jenis diskon berdasarkan nilai\n",
        "hari: str = \"Sabtu\"\n",
        "\n",
        "if hari == \"Sabtu\" or hari == \"Minggu\":\n",
        "   diskon: float = 0.20 # Diskon 20%\n",
        "   print(f\"Selamat! Anda mendapat diskon akhir pekan sebesar {diskon * 100}%.\")\n",
        "elif hari == \"Jumat\":\n",
        "     diskon: float = 0.15 # Diskon 15%\n",
        "     print(f\"Dison spesial jumat! Anda mendapat potongan {diskon * 100}%.\")\n",
        "else:\n",
        "   diskon: float = 0.05 # Diskon 5%\n",
        "   print(f\"Anda mendapatkan diskon hari biasa sebesar {diskon * 100}%.\")"
      ],
      "metadata": {
        "colab": {
          "base_uri": "https://localhost:8080/"
        },
        "id": "VHlv5dm7Hwdg",
        "outputId": "ee4247d0-d3f5-4f62-f29f-d88af7b248b8"
      },
      "execution_count": null,
      "outputs": [
        {
          "output_type": "stream",
          "name": "stdout",
          "text": [
            "Selamat! Anda mendapat diskon akhir pekan sebesar 20.0%.\n"
          ]
        }
      ]
    },
    {
      "cell_type": "code",
      "source": [
        "rupiah = int(input(\"Masukkan jumlah uang (Rp):\"))\n",
        "print(\"1. Dollar ke (USD)\")\n",
        "print(\"2. Euro ke (EUR)\")\n",
        "print(\"3. Yen ke (Yen)\")\n",
        "pilih = int(input(\"Pilih konversi (1/2/3):\"))\n",
        "\n",
        "if pilih == 1:\n",
        "   print(\"Dalam Dollar:\", rupiah / 15000)\n",
        "elif pilih == 2:\n",
        "   print(\"Dalam Euro:\", rupiah / 16000)\n",
        "elif pilih == 3:\n",
        "   print(\"Dalam Yen:\", rupiah / 120)\n",
        "else:\n",
        "   print(\"Pilihan tidak valid.\")"
      ],
      "metadata": {
        "colab": {
          "base_uri": "https://localhost:8080/"
        },
        "id": "cDGZCZW3Hz4q",
        "outputId": "8321d083-e86d-4fd4-8619-f273dfce3a54"
      },
      "execution_count": null,
      "outputs": [
        {
          "output_type": "stream",
          "name": "stdout",
          "text": [
            "Masukkan jumlah uang (Rp):100000\n",
            "1. Dollar ke (USD)\n",
            "2. Euro ke (EUR)\n",
            "3. Yen ke (Yen)\n",
            "Pilih konversi (1/2/3):1\n",
            "Dalam Dollar: 6.666666666666667\n"
          ]
        }
      ]
    }
  ]
}